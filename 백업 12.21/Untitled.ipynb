{
 "cells": [
  {
   "cell_type": "code",
   "execution_count": 5,
   "id": "5da8125d-2f80-42d8-a5b5-d70c5fb462f5",
   "metadata": {},
   "outputs": [
    {
     "name": "stdout",
     "output_type": "stream",
     "text": [
      "Collecting pydash\n",
      "  Downloading pydash-7.0.6-py3-none-any.whl (110 kB)\n",
      "                                              0.0/110.1 kB ? eta -:--:--\n",
      "     -------------------------------------- 110.1/110.1 kB 6.2 MB/s eta 0:00:00\n",
      "Requirement already satisfied: typing-extensions!=4.6.0,>=3.10 in c:\\users\\82108\\appdata\\local\\programs\\python\\python311\\lib\\site-packages (from pydash) (4.7.1)\n",
      "Installing collected packages: pydash\n",
      "Successfully installed pydash-7.0.6\n",
      "Note: you may need to restart the kernel to use updated packages.\n"
     ]
    },
    {
     "name": "stderr",
     "output_type": "stream",
     "text": [
      "\n",
      "[notice] A new release of pip is available: 23.1.2 -> 23.3.1\n",
      "[notice] To update, run: C:\\Users\\82108\\AppData\\Local\\Programs\\Python\\Python311\\python.exe -m pip install --upgrade pip\n"
     ]
    }
   ],
   "source": [
    "pip install pydash"
   ]
  },
  {
   "cell_type": "code",
   "execution_count": 6,
   "id": "6de0a773-4679-44d2-84fa-1bdd92b8e46c",
   "metadata": {},
   "outputs": [
    {
     "data": {
      "text/plain": [
       "[1]"
      ]
     },
     "execution_count": 6,
     "metadata": {},
     "output_type": "execute_result"
    }
   ],
   "source": [
    "import pydash\n",
    "\n",
    "# Arrays\n",
    "pydash.flatten([1, 2, [3, [4, 5, [6, 7]]]])\n",
    "[1, 2, 3, [4, 5, [6, 7]]]\n",
    "\n",
    "pydash.flatten_deep([1, 2, [3, [4, 5, [6, 7]]]])\n",
    "[1, 2, 3, 4, 5, 6, 7]\n",
    "\n",
    "# Collections\n",
    "pydash.map_([{'name': 'moe', 'age': 40}, {'name': 'larry', 'age': 50}], 'name')\n",
    "['moe', 'larry']\n",
    "\n",
    "# Functions\n",
    "curried = pydash.curry(lambda a, b, c: a + b + c)\n",
    "curried(1, 2)(3)\n",
    "6\n",
    "\n",
    "# Objects\n",
    "pydash.omit({'name': 'moe', 'age': 40}, 'age')\n",
    "{'name': 'moe'}\n",
    "\n",
    "# Utilities\n",
    "pydash.times(3, lambda index: index)\n",
    "[0, 1, 2]\n",
    "\n",
    "# Chaining\n",
    "pydash.chain([1, 2, 3, 4]).without(2, 3).reject(lambda x: x > 1).value()\n",
    "[1]"
   ]
  },
  {
   "cell_type": "code",
   "execution_count": 7,
   "id": "35e80336-a248-4857-97ff-4e99313c1b28",
   "metadata": {},
   "outputs": [],
   "source": [
    "from IPython.display import display, HTML"
   ]
  },
  {
   "cell_type": "code",
   "execution_count": 8,
   "id": "f6ff249c-c0fd-424e-abec-5389cdab4425",
   "metadata": {},
   "outputs": [
    {
     "data": {
      "text/html": [
       "\n",
       "<h1>Pydash Result:</h1>\n",
       "<p>[1, 2, 3, [4, 5, [6, 7]]]</p>\n"
      ],
      "text/plain": [
       "<IPython.core.display.HTML object>"
      ]
     },
     "metadata": {},
     "output_type": "display_data"
    }
   ],
   "source": [
    "# Pydash 함수를 실행하고 결과를 저장합니다.\n",
    "result = pydash.flatten([1, 2, [3, [4, 5, [6, 7]]]])\n",
    "\n",
    "# HTML 코드를 작성합니다. 결과 변수를 HTML에 포함시킵니다.\n",
    "html_code = f\"\"\"\n",
    "<h1>Pydash Result:</h1>\n",
    "<p>{result}</p>\n",
    "\"\"\"\n",
    "\n",
    "# HTML 코드를 디스플레이합니다.\n",
    "display(HTML(html_code))"
   ]
  },
  {
   "cell_type": "code",
   "execution_count": null,
   "id": "8ab5095a-a98f-4a91-b34e-981732eb8890",
   "metadata": {},
   "outputs": [],
   "source": []
  }
 ],
 "metadata": {
  "kernelspec": {
   "display_name": "Python 3 (ipykernel)",
   "language": "python",
   "name": "python3"
  },
  "language_info": {
   "codemirror_mode": {
    "name": "ipython",
    "version": 3
   },
   "file_extension": ".py",
   "mimetype": "text/x-python",
   "name": "python",
   "nbconvert_exporter": "python",
   "pygments_lexer": "ipython3",
   "version": "3.11.4"
  }
 },
 "nbformat": 4,
 "nbformat_minor": 5
}
